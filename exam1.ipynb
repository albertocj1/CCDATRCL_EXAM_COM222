{
  "cells": [
    {
      "cell_type": "markdown",
      "metadata": {
        "colab_type": "text",
        "id": "view-in-github"
      },
      "source": [
        "<a href=\"https://colab.research.google.com/github/albertocj1/CCDATRCL_EXAM_COM222/blob/main/exam1.ipynb\" target=\"_parent\"><img src=\"https://colab.research.google.com/assets/colab-badge.svg\" alt=\"Open In Colab\"/></a>"
      ]
    },
    {
      "cell_type": "markdown",
      "metadata": {
        "id": "yaz2B0KGFehP"
      },
      "source": [
        "# Midterm Exam 💛💙"
      ]
    },
    {
      "cell_type": "markdown",
      "metadata": {
        "id": "_DmK1ONEFehQ"
      },
      "source": [
        "**Instructions** ❗️❗️\n",
        "\n",
        "❌ Do not remove or modify the notebook **sections**, **subsections**, **exam questions** or **any text** in this python notebook\n",
        "\n",
        "✔️ Put your answer in the designated cells below each question"
      ]
    },
    {
      "cell_type": "markdown",
      "metadata": {
        "id": "TMCAXKWCFehR"
      },
      "source": [
        "## Search"
      ]
    },
    {
      "cell_type": "code",
      "execution_count": 301,
      "metadata": {
        "id": "Fy8nEBRRFehR"
      },
      "outputs": [],
      "source": [
        "def linearSearch(my_list, number):\n",
        "\n",
        "    index = 0\n",
        "\n",
        "    for i in my_list:\n",
        "\n",
        "        if my_list[index] == number:\n",
        "            return index\n",
        "\n",
        "        index = index + 1\n",
        "\n",
        "    return -1"
      ]
    },
    {
      "cell_type": "markdown",
      "metadata": {
        "id": "AjAevpueFehS"
      },
      "source": [
        "1. Using **linear search**, write a `findLargestIncrease()` function to find the largest increase in value between two adjacent numbers in your student number `(10 points)`\n",
        "\n",
        "    **Example:**\n",
        "\n",
        "    student_number = [2,0,2,2,6,2,5,1,9,3]\n",
        "\n",
        "    **Expected Output:**\n",
        "\n",
        "    findLargestIncrease(student_number)\n",
        "\n",
        "    Output: Between 1 and 9\n",
        "\n",
        "    **Explanation:**\n",
        "\n",
        "    From this student_number, the largest increase happened from number 1 to number 9"
      ]
    },
    {
      "cell_type": "code",
      "execution_count": 302,
      "metadata": {
        "colab": {
          "base_uri": "https://localhost:8080/"
        },
        "id": "JE8nEfyJFehS",
        "outputId": "4718bab8-7d8c-46a6-caf4-c8a8c0c58934"
      },
      "outputs": [
        {
          "name": "stdout",
          "output_type": "stream",
          "text": [
            "Output: Between 0 and 5\n"
          ]
        }
      ],
      "source": [
        "def findLargestIncrease(student_number):\n",
        "    largest_increase = 0\n",
        "    start_index = -1\n",
        "    end_index = -1\n",
        "\n",
        "    for i in range(len(student_number) - 1):\n",
        "        current_increase = student_number[i + 1] - student_number[i]\n",
        "        if current_increase > largest_increase:\n",
        "            largest_increase = current_increase\n",
        "            start_index = linearSearch(student_number, student_number[i])\n",
        "            end_index = linearSearch(student_number, student_number[i + 1])\n",
        "\n",
        "    if largest_increase > 0 and start_index != -1 and end_index != -1:\n",
        "        return f\"Between {student_number[start_index]} and {student_number[end_index]}\"\n",
        "    else:\n",
        "        return \"No increase found\"\n",
        "\n",
        "student_number = [2, 0, 2, 2, 1, 0, 5, 9, 2, 0]\n",
        "result = findLargestIncrease(student_number)\n",
        "print(\"Output:\", result)\n"
      ]
    },
    {
      "cell_type": "markdown",
      "metadata": {
        "id": "nMyr1fNyFehS"
      },
      "source": [
        "2. Using **linear search**, write a `findLargestDecrease()` function to find the largest decrease in value between two adjacent numbers in your student number `(10 points)`\n",
        "\n",
        "    **Example:**\n",
        "\n",
        "    student_number = [2,0,2,2,6,2,5,1,9,3]\n",
        "\n",
        "    **Expected Output:**\n",
        "\n",
        "    findLargestDecrease(student_number)\n",
        "\n",
        "    Output: Between 9 and 3\n",
        "\n",
        "    **Explanation:**\n",
        "\n",
        "    From this student_number, the largest decrease happened from number 9 to number 3"
      ]
    },
    {
      "cell_type": "code",
      "execution_count": 303,
      "metadata": {
        "colab": {
          "base_uri": "https://localhost:8080/"
        },
        "id": "bfMfQVbVFehS",
        "outputId": "824ccb6e-6c5a-4df3-dad7-df1d76e4db18"
      },
      "outputs": [
        {
          "name": "stdout",
          "output_type": "stream",
          "text": [
            "Output: Between 9 and 2\n"
          ]
        }
      ],
      "source": [
        "def findLargestDecrease(student_number):\n",
        "    largest_decrease = 0\n",
        "    start_index = -1\n",
        "    end_index = -1\n",
        "\n",
        "    for i in range(len(student_number) - 1):\n",
        "        current_decrease = student_number[i] - student_number[i + 1]\n",
        "        if current_decrease > largest_decrease:\n",
        "            largest_decrease = current_decrease\n",
        "            start_index = linearSearch(student_number, student_number[i])\n",
        "            end_index = linearSearch(student_number, student_number[i + 1])\n",
        "\n",
        "    if largest_decrease > 0 and start_index != -1 and end_index != -1:\n",
        "        return f\"Between {student_number[start_index]} and {student_number[end_index]}\"\n",
        "    else:\n",
        "        return \"No decrease found\"\n",
        "\n",
        "student_number = [2, 0, 2, 2, 1, 0, 5, 9, 2, 0]\n",
        "result = findLargestDecrease(student_number)\n",
        "print(\"Output:\", result)\n"
      ]
    },
    {
      "cell_type": "markdown",
      "metadata": {
        "id": "NtKSQn9QFehS"
      },
      "source": [
        "## Linked List"
      ]
    },
    {
      "cell_type": "code",
      "execution_count": 304,
      "metadata": {
        "id": "0HP5zyJcFehS"
      },
      "outputs": [],
      "source": [
        "class Node:\n",
        "\n",
        "    def __init__(self, data):\n",
        "        self.data = data\n",
        "        self.next = None  # null"
      ]
    },
    {
      "cell_type": "code",
      "execution_count": 305,
      "metadata": {
        "id": "A-8Uefe7FehS"
      },
      "outputs": [],
      "source": [
        "class LinkedList:\n",
        "\n",
        "    def __init__(self):\n",
        "        self.head = None\n",
        "\n",
        "    def traverse(self, node):\n",
        "        while node:\n",
        "            print(node.data, end=\" -> \")\n",
        "            node = node.next"
      ]
    },
    {
      "cell_type": "markdown",
      "metadata": {
        "id": "uPgIJJuSFehT"
      },
      "source": [
        "**Instructions** ❗️❗️\n",
        "\n",
        "Use the pre-defined linked list class/functions to create a linked list"
      ]
    },
    {
      "cell_type": "markdown",
      "metadata": {
        "id": "WIwpW7Q2FehT"
      },
      "source": [
        "1. Create a Singly linked list named **num_list** and print all of its elements. `(5 points)`\n",
        "\n",
        "- **num_list** should contain all digits of your student number.\n",
        "\n",
        "    **Expected Output:**\n",
        "\n",
        "    print(num_list)\n",
        "\n",
        "    [2, 0, 2, 2, 1, 2, 3, 4, 5, 6]"
      ]
    },
    {
      "cell_type": "code",
      "execution_count": 306,
      "metadata": {
        "colab": {
          "base_uri": "https://localhost:8080/"
        },
        "id": "Lihv0JPiFehT",
        "outputId": "f31b958e-103f-4732-c25c-0da90c42a6bd"
      },
      "outputs": [
        {
          "name": "stdout",
          "output_type": "stream",
          "text": [
            "2 -> 0 -> 2 -> 2 -> 1 -> 0 -> 5 -> 9 -> 2 -> 0 -> "
          ]
        }
      ],
      "source": [
        "num_list = LinkedList()\n",
        "\n",
        "num_list.head = Node(2)\n",
        "node_b = Node(0)\n",
        "node_c = Node(2)\n",
        "node_d = Node(2)\n",
        "node_e = Node(1)\n",
        "node_f = Node(0)\n",
        "node_g = Node(5)\n",
        "node_h = Node(9)\n",
        "node_i = Node(2)\n",
        "node_j = Node(0)\n",
        "\n",
        "num_list.head.next = node_b\n",
        "node_b.next = node_c\n",
        "node_c.next = node_d\n",
        "node_d.next = node_e\n",
        "node_e.next = node_f\n",
        "node_f.next = node_g\n",
        "node_g.next = node_h\n",
        "node_h.next = node_i\n",
        "node_i.next = node_j\n",
        "node_j.next = None\n",
        "\n",
        "num_list.traverse(num_list.head)"
      ]
    },
    {
      "cell_type": "markdown",
      "metadata": {
        "id": "dqA2UYrYFehT"
      },
      "source": [
        "2. Write a `hasPrime()` function to test whether a prime number is in the last six digits of **num_list**. `(5 points)`\n",
        "\n",
        "- If a prime number is in the last six digits of **num_list**, the method should return **true**\n",
        "\n",
        "- If a prime number is not in the last six digits of **num_list**, the method should return **false**\n",
        "\n",
        "    **Expected Output:**\n",
        "\n",
        "    hasPrime(num_list)\n",
        "\n",
        "    True"
      ]
    },
    {
      "cell_type": "code",
      "execution_count": 307,
      "metadata": {
        "colab": {
          "base_uri": "https://localhost:8080/"
        },
        "id": "GYwsQNz5FehT",
        "outputId": "e19bc729-e1ee-49a3-e4fb-c68f8dd81e72"
      },
      "outputs": [
        {
          "name": "stdout",
          "output_type": "stream",
          "text": [
            "True\n"
          ]
        }
      ],
      "source": [
        "num_list = LinkedList()\n",
        "\n",
        "num_list.head = Node(3)\n",
        "node_b = Node(3)\n",
        "node_c = Node(3)\n",
        "node_d = Node(3)\n",
        "node_e = Node(4)\n",
        "node_f = Node(4)\n",
        "node_g = Node(4)\n",
        "node_h = Node(3)\n",
        "node_i = Node(4)\n",
        "node_j = Node(4)\n",
        "\n",
        "num_list.head.next = node_b\n",
        "node_b.next = node_c\n",
        "node_c.next = node_d\n",
        "node_d.next = node_e\n",
        "node_e.next = node_f\n",
        "node_f.next = node_g\n",
        "node_g.next = node_h\n",
        "node_h.next = node_i\n",
        "node_i.next = node_j\n",
        "node_j.next = None\n",
        "\n",
        "def hasPrime(self):\n",
        "        current = self.head\n",
        "\n",
        "        length = 0\n",
        "        while current:\n",
        "            length += 1\n",
        "            current = current.next\n",
        "\n",
        "        current = self.head\n",
        "\n",
        "        for _ in range(max(0, length - 6)):\n",
        "            current = current.next\n",
        "\n",
        "        while current:\n",
        "            if is_prime(current.data):\n",
        "                return True\n",
        "            current = current.next\n",
        "\n",
        "        return False\n",
        "\n",
        "def is_prime(number):\n",
        "    if number <= 1:\n",
        "        return False\n",
        "    return all(number % i != 0 for i in range(2, int(number ** 0.5) + 1))\n",
        "\n",
        "\n",
        "result = hasPrime(num_list)\n",
        "print(result)"
      ]
    },
    {
      "cell_type": "markdown",
      "metadata": {
        "id": "5Qb0BOiwFehT"
      },
      "source": [
        "3. Write a `removeZeroes()` function to remove all occurrences of zeroes in **num_list**. `(5 points)`\n",
        "\n",
        "- If a zero is in **num_list**, return **num_list**\n",
        "\n",
        "- If there are no zeroes in **num_list**, return **\"no zeros found\"**\n",
        "\n",
        "    **Expected Output:**\n",
        "\n",
        "    removeZeroes(num_list)\n",
        "\n",
        "    [2, 2, 1, 2, 3, 4, 5, 6]"
      ]
    },
    {
      "cell_type": "code",
      "execution_count": 308,
      "metadata": {
        "colab": {
          "base_uri": "https://localhost:8080/"
        },
        "id": "k1vAHUYuFehT",
        "outputId": "9cc973f3-4b97-4323-a26e-5aa1030359ee"
      },
      "outputs": [
        {
          "name": "stdout",
          "output_type": "stream",
          "text": [
            "original:\n",
            "3 -> 3 -> 3 -> 3 -> 4 -> 4 -> 4 -> 12 -> 4 -> 4 -> \n",
            "no zeros found\n",
            "\n",
            "3 -> 3 -> 3 -> 3 -> 4 -> 4 -> 4 -> 12 -> 4 -> 4 -> "
          ]
        }
      ],
      "source": [
        "num_list = LinkedList()\n",
        "\n",
        "num_list.head = Node(3)\n",
        "node_b = Node(3)\n",
        "node_c = Node(3)\n",
        "node_d = Node(3)\n",
        "node_e = Node(4)\n",
        "node_f = Node(4)\n",
        "node_g = Node(4)\n",
        "node_h = Node(12)\n",
        "node_i = Node(4)\n",
        "node_j = Node(4)\n",
        "\n",
        "num_list.head.next = node_b\n",
        "node_b.next = node_c\n",
        "node_c.next = node_d\n",
        "node_d.next = node_e\n",
        "node_e.next = node_f\n",
        "node_f.next = node_g\n",
        "node_g.next = node_h\n",
        "node_h.next = node_i\n",
        "node_i.next = node_j\n",
        "node_j.next = None\n",
        "\n",
        "def removeElementZero(self):\n",
        "        current = self.head\n",
        "        prev = None\n",
        "\n",
        "        while current:\n",
        "            if current.data == 0:\n",
        "                if prev:\n",
        "                    prev.next = current.next\n",
        "                else:\n",
        "                    self.head = current.next\n",
        "                return\n",
        "            prev = current\n",
        "            current = current.next\n",
        "\n",
        "        print(\"no zeros found\")\n",
        "        return\n",
        "\n",
        "print(\"original:\")\n",
        "num_list.traverse(num_list.head)\n",
        "print()\n",
        "removeElementZero(num_list)\n",
        "print()\n",
        "num_list.traverse(num_list.head)\n"
      ]
    },
    {
      "cell_type": "markdown",
      "metadata": {
        "id": "SKAlpglNFehT"
      },
      "source": [
        "4. Insert a dash symbol between the 4th and 5th digit in **num_list**. `(5 points)`\n",
        "\n",
        "    **Expected Output:**\n",
        "\n",
        "    print(num_list)\n",
        "\n",
        "    [2, 0, 2, 2, \"-\", 1, 2, 3, 4, 5, 6]"
      ]
    },
    {
      "cell_type": "code",
      "execution_count": 309,
      "metadata": {
        "colab": {
          "base_uri": "https://localhost:8080/"
        },
        "id": "vF7fimZ-FehT",
        "outputId": "a0a3f561-d7c7-4ae2-9e65-a21b5dfb766f"
      },
      "outputs": [
        {
          "name": "stdout",
          "output_type": "stream",
          "text": [
            "3 -> 3 -> 3 -> - -> 3 -> 4 -> 4 -> 4 -> 12 -> 4 -> 4 -> "
          ]
        }
      ],
      "source": [
        "def addBetweenIndices(link, index1, index2, new_data):\n",
        "        if index1 < 0 or index2 < 0:\n",
        "            print(\"Indices cannot be negative.\")\n",
        "            return\n",
        "\n",
        "        if index1 > index2:\n",
        "            index1, index2 = index2, index1  # Swap indices if index1 is greater than index2\n",
        "\n",
        "        current = link.head\n",
        "        count = 0\n",
        "        prev = None\n",
        "\n",
        "        while current:\n",
        "            if count == index1:\n",
        "                new_node = Node(new_data)\n",
        "                if prev:\n",
        "                    prev.next = new_node\n",
        "                else:\n",
        "                    link.head = new_node\n",
        "                new_node.next = current\n",
        "                return\n",
        "            prev = current\n",
        "            current = current.next\n",
        "            count += 1\n",
        "\n",
        "        print(\"Index out of range.\")\n",
        "\n",
        "\n",
        "addBetweenIndices(num_list,3, 4, \"-\")\n",
        "num_list.traverse(num_list.head)\n",
        "\n"
      ]
    },
    {
      "cell_type": "markdown",
      "metadata": {
        "id": "KkC-LgdxFehT"
      },
      "source": [
        "## Stack"
      ]
    },
    {
      "cell_type": "code",
      "execution_count": 310,
      "metadata": {
        "id": "UYTqB1u_FehU"
      },
      "outputs": [],
      "source": [
        "# Creating a stack\n",
        "def create_stack():\n",
        "    stack = []\n",
        "    return stack\n",
        "\n",
        "\n",
        "def print_stack(stack):\n",
        "\n",
        "    if (check_empty(stack)):\n",
        "        return \"stack is empty\"\n",
        "\n",
        "    # Create a copy of the stack and reverse the elements\n",
        "    tempStack = stack.copy()\n",
        "    tempStack.reverse()\n",
        "\n",
        "    # Print all elements using a loop\n",
        "    for i in tempStack:\n",
        "        print(i)\n",
        "\n",
        "    # Delete the copy to free up memory\n",
        "    del tempStack\n",
        "\n",
        "# Creating an empty stack\n",
        "\n",
        "\n",
        "def check_empty(stack):\n",
        "    return len(stack) == 0\n",
        "\n",
        "\n",
        "# Adding items into the stack\n",
        "def push(stack, item):\n",
        "    stack.append(item)\n",
        "    print(\"pushed item: \" + item)\n",
        "\n",
        "\n",
        "# Removing an element from the stack\n",
        "def pop(stack):\n",
        "    if (check_empty(stack)):\n",
        "        return \"stack is empty\"\n",
        "\n",
        "    return stack.pop()\n",
        "\n",
        "\n",
        "def peek(stack):\n",
        "\n",
        "    # Use negative indexing to display the last element of the list\n",
        "    print(stack[-1])"
      ]
    },
    {
      "cell_type": "markdown",
      "metadata": {
        "id": "wLAQchs8FehU"
      },
      "source": [
        "**Instructions** ❗️❗️\n",
        "\n",
        "Use the pre-defined stack class/functions to create a stack"
      ]
    },
    {
      "cell_type": "markdown",
      "metadata": {
        "id": "37cg9BoCFehU"
      },
      "source": [
        "1. Create two (2) stacks named **name_stack** and **num_stack** `(5 points)`\n",
        "\n",
        "- **name_stack** should contain all letters of your first name.\n",
        "- **num_stack** should contain all digits of your student number.\n",
        "\n",
        "    **Expected Output:**\n",
        "\n",
        "    print(name_stack)\n",
        "\n",
        "    ['E', 'L', 'I', 'Z', 'E', 'R']\n",
        "\n",
        "    print(num_stack)\n",
        "\n",
        "    [2,0,2,2,1,2,3,4,5,6]"
      ]
    },
    {
      "cell_type": "code",
      "execution_count": 311,
      "metadata": {
        "colab": {
          "base_uri": "https://localhost:8080/"
        },
        "id": "HlUIUQzQFehU",
        "outputId": "558b9142-051d-4f10-88c0-bbdfca0142c9"
      },
      "outputs": [
        {
          "name": "stdout",
          "output_type": "stream",
          "text": [
            "pushed item: C\n",
            "pushed item: H\n",
            "pushed item: R\n",
            "pushed item: I\n",
            "pushed item: S\n",
            "pushed item: T\n",
            "pushed item: I\n",
            "pushed item: A\n",
            "pushed item: N\n",
            "pushed item: J\n",
            "pushed item: O\n",
            "pushed item: S\n",
            "pushed item: H\n",
            "pushed item: U\n",
            "pushed item: A\n",
            "pushed item: 2\n",
            "pushed item: 0\n",
            "pushed item: 2\n",
            "pushed item: 2\n",
            "pushed item: 1\n",
            "pushed item: 0\n",
            "pushed item: 5\n",
            "pushed item: 9\n",
            "pushed item: 2\n",
            "pushed item: 0\n",
            "['C', 'H', 'R', 'I', 'S', 'T', 'I', 'A', 'N', 'J', 'O', 'S', 'H', 'U', 'A']\n",
            "['2', '0', '2', '2', '1', '0', '5', '9', '2', '0']\n"
          ]
        }
      ],
      "source": [
        "name_stack = create_stack()\n",
        "num_stack = create_stack()\n",
        "\n",
        "first_name = \"CHRISTIANJOSHUA\"\n",
        "for letter in first_name:\n",
        "  push(name_stack, letter)\n",
        "\n",
        "\n",
        "student_number = \"2022105920\"\n",
        "for digit in student_number:\n",
        "  push(num_stack, digit)\n",
        "\n",
        "print(name_stack)\n",
        "print(num_stack)\n"
      ]
    },
    {
      "cell_type": "markdown",
      "metadata": {
        "id": "8cySe9LXFehU"
      },
      "source": [
        "2. Create a stack named **my_stack** that follows the following format: `(5 points)`\n",
        "\n",
        "- The first element should be the **5th digit in your student number**\n",
        "- The succeeding elements should be the letters of your **first name**\n",
        "- The last element should be the **last digit of your student number**\n",
        "\n",
        "    **Expected Output:**\n",
        "\n",
        "    my_stack = [1, E, L, I, Z, E, R, 6]"
      ]
    },
    {
      "cell_type": "code",
      "execution_count": 312,
      "metadata": {
        "colab": {
          "base_uri": "https://localhost:8080/"
        },
        "id": "bEnCoAhjFehU",
        "outputId": "a3a15ca0-e85e-4d5d-afc3-ef5bdb100014"
      },
      "outputs": [
        {
          "name": "stdout",
          "output_type": "stream",
          "text": [
            "pushed item: 1\n",
            "pushed item: C\n",
            "pushed item: H\n",
            "pushed item: R\n",
            "pushed item: I\n",
            "pushed item: S\n",
            "pushed item: T\n",
            "pushed item: I\n",
            "pushed item: A\n",
            "pushed item: N\n",
            "pushed item: 0\n",
            "my_stack:\n",
            "['1', 'C', 'H', 'R', 'I', 'S', 'T', 'I', 'A', 'N', '0']\n"
          ]
        }
      ],
      "source": [
        "my_stack = create_stack()\n",
        "\n",
        "student_number = \"2022105920\"\n",
        "push(my_stack, student_number[4])\n",
        "\n",
        "first_name = \"CHRISTIAN\"\n",
        "for letter in first_name:\n",
        "    push(my_stack, letter)\n",
        "\n",
        "push(my_stack, student_number[-1])\n",
        "\n",
        "print(\"my_stack:\")\n",
        "print(my_stack)\n"
      ]
    },
    {
      "cell_type": "markdown",
      "metadata": {
        "id": "8a8_KP5nFehU"
      },
      "source": [
        "3. Write a `verifyStack()` function that will take in `my_stack` and check if its format has been followed `(10 points)`\n",
        "\n",
        "- Return **True** if the format has been followed\n",
        "- Return **False** if the format was not followed\n",
        "- Verify the format by checking the contents of **my_stack** with **name_stack** and **num_stack**\n",
        "\n",
        "    **Expected Output:**\n",
        "\n",
        "    my_stack = [1, E, L, I, Z, E, R, 6]\n",
        "\n",
        "    verifyStack(my_stack)\n",
        "\n",
        "    True\n",
        "\n",
        "    my_stack = [1, S, L, I, Z, E, R, 7]\n",
        "\n",
        "    verifyStack(my_stack)\n",
        "\n",
        "    False"
      ]
    },
    {
      "cell_type": "code",
      "execution_count": 313,
      "metadata": {
        "id": "RdANSxD0FehU"
      },
      "outputs": [
        {
          "name": "stdout",
          "output_type": "stream",
          "text": [
            "pushed item: C\n",
            "pushed item: H\n",
            "pushed item: R\n",
            "pushed item: I\n",
            "pushed item: S\n",
            "pushed item: T\n",
            "pushed item: I\n",
            "pushed item: A\n",
            "pushed item: N\n",
            "pushed item: 2\n",
            "pushed item: 0\n",
            "pushed item: 2\n",
            "pushed item: 2\n",
            "pushed item: 1\n",
            "pushed item: 0\n",
            "pushed item: 5\n",
            "pushed item: 9\n",
            "pushed item: 2\n",
            "pushed item: 0\n",
            "pushed item: 1\n",
            "pushed item: C\n",
            "pushed item: H\n",
            "pushed item: R\n",
            "pushed item: I\n",
            "pushed item: S\n",
            "pushed item: T\n",
            "pushed item: I\n",
            "pushed item: A\n",
            "pushed item: N\n",
            "pushed item: 0\n",
            "['2', '0', '2', '2', '1', '0', '5', '9', '2', '0']\n",
            "my_stack = ['1', 'C', 'H', 'R', 'I', 'S', 'T', 'I', 'A', 'N', '0']\n",
            "True\n",
            "my_stack = ['1', 'S', 'H', 'R', 'I', 'S', 'T', 'I', 'A', 'N', '8']\n",
            "False\n"
          ]
        }
      ],
      "source": [
        "my_stack = create_stack()\n",
        "num_stack = create_stack()\n",
        "name_stack = create_stack()\n",
        "\n",
        "first_name = \"CHRISTIAN\"\n",
        "for letter in first_name:\n",
        "  push(name_stack, letter)\n",
        "\n",
        "\n",
        "student_number = \"2022105920\"\n",
        "for digit in student_number:\n",
        "  push(num_stack, digit)\n",
        "\n",
        "student_number = \"2022105920\"\n",
        "push(my_stack, student_number[4])\n",
        "\n",
        "first_name = \"CHRISTIAN\"\n",
        "for letter in first_name:\n",
        "    push(my_stack, letter)\n",
        "\n",
        "push(my_stack, student_number[-1])\n",
        "\n",
        "def verifyStack(my_stack):\n",
        "    if my_stack[0] == num_stack[4]:\n",
        "        my_stack[-1] = str(my_stack[-1])\n",
        "        if my_stack[1:-1] == name_stack:\n",
        "            if my_stack[-1] == num_stack[-1]:\n",
        "                return True\n",
        "\n",
        "    return False\n",
        "\n",
        "# Test cases\n",
        "print(num_stack)\n",
        "print(\"my_stack =\", my_stack)\n",
        "print(verifyStack(my_stack))\n",
        "\n",
        "my_stack = ['1', 'S', 'H', 'R', 'I', 'S', 'T','I','A','N','8']\n",
        "print(\"my_stack =\", my_stack)\n",
        "print(verifyStack(my_stack))"
      ]
    },
    {
      "cell_type": "markdown",
      "metadata": {
        "id": "UC5C64B2FehU"
      },
      "source": [
        "## Queue"
      ]
    },
    {
      "cell_type": "code",
      "execution_count": 314,
      "metadata": {
        "id": "NJJ0j0LHFehU"
      },
      "outputs": [],
      "source": [
        "class Queue:\n",
        "    def __init__(self):\n",
        "        self.queue = []\n",
        "\n",
        "    # Add an element\n",
        "    def enqueue(self, item):\n",
        "        self.queue.append(item)\n",
        "\n",
        "    # Remove an element\n",
        "    def dequeue(self):\n",
        "        if len(self.queue) < 1:\n",
        "            return None\n",
        "        return self.queue.pop(0)\n",
        "\n",
        "    # Display  the queue\n",
        "    def display(self):\n",
        "        print(self.queue)\n",
        "\n",
        "    def size(self):\n",
        "        return len(self.queue)\n",
        "\n",
        "    def peek(self):\n",
        "        return self.queue[0]"
      ]
    },
    {
      "cell_type": "markdown",
      "metadata": {
        "id": "80OekpbeFehV"
      },
      "source": [
        "**Instructions** ❗️❗️\n",
        "\n",
        "Use the pre-defined queue class/functions to create a Queue"
      ]
    },
    {
      "cell_type": "markdown",
      "metadata": {
        "id": "_Hf0OP5cFehV"
      },
      "source": [
        "1. Create a simple queue named **num_queue** `(5 points)`\n",
        "\n",
        "- **num_queue** should contain all digits of your student number.\n",
        "\n",
        "    **Expected Output:**\n",
        "\n",
        "    print(num_queue)\n",
        "\n",
        "    [2,0,2,2,1,2,3,4,5,6]"
      ]
    },
    {
      "cell_type": "code",
      "execution_count": 315,
      "metadata": {
        "id": "_mgmE4ArFehV"
      },
      "outputs": [
        {
          "name": "stdout",
          "output_type": "stream",
          "text": [
            "[2, 0, 2, 2, 1, 0, 5, 9, 2, 0]\n"
          ]
        }
      ],
      "source": [
        "num_queue = Queue()\n",
        "stud_num = [2, 0, 2, 2, 1, 0, 5, 9, 2, 0]\n",
        "\n",
        "for i in range(len(stud_num)):\n",
        "  num_queue.enqueue(stud_num[i])\n",
        "\n",
        "num_queue.display()"
      ]
    },
    {
      "cell_type": "markdown",
      "metadata": {
        "id": "1pHG8t6DFehV"
      },
      "source": [
        "2. Write a `getMax()` or `getMin()` function for **num_queue** `(5 points)`\n",
        "\n",
        "- If your student number ends with an odd number, create a `getMax()` function that will return the largest number in **num_queue**\n",
        "- If your student number ends with an even number, create a `getMin()` function that will return the lowest number in **num_queue**\n",
        "\n",
        "    **Expected Output for getMax():**\n",
        "\n",
        "    getMax(num_queue)\n",
        "\n",
        "    6\n",
        "\n",
        "    **Expected Output for getMin():**\n",
        "\n",
        "    getMin(num_queue)\n",
        "\n",
        "    0"
      ]
    },
    {
      "cell_type": "code",
      "execution_count": 316,
      "metadata": {
        "id": "itj2U610FehV"
      },
      "outputs": [
        {
          "name": "stdout",
          "output_type": "stream",
          "text": [
            "6\n"
          ]
        }
      ],
      "source": [
        "def getMax(num_queue):\n",
        "    if num_queue.size() == 0:\n",
        "        return None\n",
        "\n",
        "    max_num = num_queue.peek()\n",
        "\n",
        "\n",
        "    for _ in range(num_queue.size()):\n",
        "        current = num_queue.dequeue()\n",
        "        if current > max_num:\n",
        "            max_num = current\n",
        "        num_queue.enqueue(current)\n",
        "\n",
        "    return max_num\n",
        "\n",
        "num_queue = Queue()\n",
        "numbers = [2, 0, 2, 2, 1, 0, 5, 9, 2, 0]\n",
        "for num in numbers:\n",
        "    num_queue.enqueue(num)\n",
        "\n",
        "result = getMax(num_queue)\n",
        "print(result)"
      ]
    },
    {
      "cell_type": "markdown",
      "metadata": {
        "id": "YkgmP6GwFehV"
      },
      "source": [
        "3. Write a `getOdd()` or `getEven()` function for  **num_queue** `(5 points)`\n",
        "\n",
        "- If your student number ends with an **odd number**, create a `getOdd()` function that will return all odd numbers in **num_queue**\n",
        "- If your student number ends with an **even number**, create a `getEven()` function that will return all even numbers in **num_queue**\n",
        "\n",
        "    **Expected Output for getOdd():**\n",
        "\n",
        "    getOdd(num_queue)\n",
        "\n",
        "    [1, 3, 5]\n",
        "\n",
        "    **Expected Output for getEven():**\n",
        "\n",
        "    getEven(num_queue)\n",
        "\n",
        "    [0, 2, 4, 6]"
      ]
    },
    {
      "cell_type": "code",
      "execution_count": 317,
      "metadata": {
        "id": "2Bc7E1zNFehV"
      },
      "outputs": [
        {
          "data": {
            "text/plain": [
              "[1, 5, 9]"
            ]
          },
          "execution_count": 317,
          "metadata": {},
          "output_type": "execute_result"
        }
      ],
      "source": [
        "def getOdd(num_queue):\n",
        "    odd_numbers = []\n",
        "\n",
        "    for _ in range(num_queue.size()):\n",
        "        current = num_queue.dequeue()\n",
        "        if current % 2 != 0:\n",
        "            odd_numbers.append(current)\n",
        "        num_queue.enqueue(current)\n",
        "\n",
        "    return odd_numbers\n",
        "\n",
        "num_queue = Queue()\n",
        "numbers = [2, 0, 2, 2, 1, 0, 5, 9, 2, 0]\n",
        "for num in numbers:\n",
        "    num_queue.enqueue(num)\n",
        "getOdd(num_queue)"
      ]
    },
    {
      "cell_type": "markdown",
      "metadata": {
        "id": "kuzWF5g4FehV"
      },
      "source": [
        "4. Write a `removeDup()` function that will remove all duplicates in **num_queue** `(5 points)`\n",
        "\n",
        "    **Expected Output:**\n",
        "\n",
        "    removeDup(num_queue)\n",
        "\n",
        "    [2,0,1,3,4,5,6]"
      ]
    },
    {
      "cell_type": "code",
      "execution_count": 318,
      "metadata": {
        "id": "I8LeQP8MFehY"
      },
      "outputs": [
        {
          "name": "stdout",
          "output_type": "stream",
          "text": [
            "num_queue after removing extra copies of duplicates:\n",
            "[2, 0, 1, 5, 9]\n"
          ]
        }
      ],
      "source": [
        "def removeDup(num_queue):\n",
        "    count_dict = {}\n",
        "    result_queue = Queue()\n",
        "\n",
        "    while not num_queue.size() == 0:\n",
        "        current = num_queue.dequeue()\n",
        "        if current in count_dict:\n",
        "            count_dict[current] += 1\n",
        "        else:\n",
        "            count_dict[current] = 1\n",
        "        if count_dict[current] == 1:\n",
        "            result_queue.enqueue(current)\n",
        "\n",
        "    while not result_queue.size() == 0:\n",
        "        num_queue.enqueue(result_queue.dequeue())\n",
        "\n",
        "num_queue = Queue()\n",
        "\n",
        "numbers = [2, 0, 2, 2, 1, 0, 5, 9, 2, 0]\n",
        "\n",
        "for num in numbers:\n",
        "    num_queue.enqueue(num)\n",
        "\n",
        "removeDup(num_queue)\n",
        "\n",
        "print(\"num_queue after removing extra copies of duplicates:\")\n",
        "num_queue.display()\n"
      ]
    },
    {
      "cell_type": "markdown",
      "metadata": {
        "id": "LVfZTh8YFehZ"
      },
      "source": [
        "## Sort"
      ]
    },
    {
      "cell_type": "markdown",
      "metadata": {
        "id": "bm9lonfzFehZ"
      },
      "source": [
        "**Instructions** ❗️❗️\n",
        "\n",
        "Use the any sorting algoritms"
      ]
    },
    {
      "cell_type": "markdown",
      "metadata": {
        "id": "EJTlxhEdFehZ"
      },
      "source": [
        "1. Using any sorting algorithm, sort the **last 6 digits** of your student number in ascending order `(5 points)`\n",
        "\n",
        "    **Example:**\n",
        "\n",
        "    student_number = [2,0,2,2,6,2,5,1,3,4]\n",
        "\n",
        "    **Expected Output:**\n",
        "\n",
        "    print(student_number)\n",
        "\n",
        "    [2,0,2,2,1,2,3,4,5,6]\n"
      ]
    },
    {
      "cell_type": "code",
      "execution_count": 319,
      "metadata": {
        "id": "MkZKfveOFehZ"
      },
      "outputs": [
        {
          "name": "stdout",
          "output_type": "stream",
          "text": [
            "Sorted student_number: [2, 0, 2, 2, 0, 0, 1, 2, 5, 9]\n"
          ]
        }
      ],
      "source": [
        "def sorts(arr, start, end):\n",
        "    for i in range(start, end):\n",
        "        for j in range(start, end):\n",
        "            if arr[j] > arr[j + 1]:\n",
        "                arr[j], arr[j + 1] = arr[j + 1], arr[j]\n",
        "\n",
        "student_number = [2, 0, 2, 2, 1, 0, 5, 9, 2, 0]\n",
        "\n",
        "sorts(student_number, len(student_number) - 6, len(student_number) - 1)\n",
        "\n",
        "print(\"Sorted student_number:\", student_number)"
      ]
    },
    {
      "cell_type": "markdown",
      "metadata": {
        "id": "sC2JZRZMFehZ"
      },
      "source": [
        "2. Using your student_number, separately sort the even numbers in **increasing order** and the odd numbers in **decreasing order** `(15 points)`\n",
        "\n",
        "    **Example:**\n",
        "\n",
        "    student_number = [2,0,2,2,1,2,3,4,5,6]\n",
        "\n",
        "    **Expected Output:**\n",
        "\n",
        "    print(student_number)\n",
        "\n",
        "    [0,2,2,2,2,4,6,5,3,1]"
      ]
    },
    {
      "cell_type": "code",
      "execution_count": 320,
      "metadata": {
        "id": "hWOh_ohcFehZ"
      },
      "outputs": [
        {
          "name": "stdout",
          "output_type": "stream",
          "text": [
            "Sorted student_number: [0, 0, 0, 2, 2, 2, 2, 9, 5, 1]\n"
          ]
        }
      ],
      "source": [
        "def merge_sort(arr):\n",
        "    if len(arr) <= 1:\n",
        "        return arr\n",
        "\n",
        "    mid = len(arr) // 2\n",
        "    left_half = arr[:mid]\n",
        "    right_half = arr[mid:]\n",
        "\n",
        "    left_half = merge_sort(left_half)\n",
        "    right_half = merge_sort(right_half)\n",
        "\n",
        "    return merge(left_half, right_half)\n",
        "\n",
        "def merge(left, right):\n",
        "    result = []\n",
        "    left_index, right_index = 0, 0\n",
        "\n",
        "    while left_index < len(left) and right_index < len(right):\n",
        "        if left[left_index] % 2 == 0 and right[right_index] % 2 == 0:\n",
        "            if left[left_index] < right[right_index]:\n",
        "                result.append(left[left_index])\n",
        "                left_index += 1\n",
        "            else:\n",
        "                result.append(right[right_index])\n",
        "                right_index += 1\n",
        "        elif left[left_index] % 2 == 0:\n",
        "            result.append(left[left_index])\n",
        "            left_index += 1\n",
        "        else:\n",
        "            result.append(right[right_index])\n",
        "            right_index += 1\n",
        "\n",
        "    result.extend(left[left_index:])\n",
        "    result.extend(right[right_index:])\n",
        "\n",
        "    return result\n",
        "\n",
        "student_number = [2, 0, 2, 2, 1, 0, 5, 9, 2, 0]\n",
        "\n",
        "sorted_student_number = merge_sort(student_number)\n",
        "\n",
        "print(\"Sorted student_number:\", sorted_student_number)"
      ]
    }
  ],
  "metadata": {
    "colab": {
      "include_colab_link": true,
      "provenance": []
    },
    "kernelspec": {
      "display_name": "Python 3",
      "language": "python",
      "name": "python3"
    },
    "language_info": {
      "codemirror_mode": {
        "name": "ipython",
        "version": 3
      },
      "file_extension": ".py",
      "mimetype": "text/x-python",
      "name": "python",
      "nbconvert_exporter": "python",
      "pygments_lexer": "ipython3",
      "version": "3.9.13"
    },
    "orig_nbformat": 4
  },
  "nbformat": 4,
  "nbformat_minor": 0
}
